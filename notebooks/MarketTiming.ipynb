{
 "cells": [
  {
   "cell_type": "markdown",
   "metadata": {},
   "source": [
    "# Market Timing\n",
    "\n",
    "Market Timing is often considered a strategy for beating the markets and making profits. We would try to explore whether market timing actually works. We would work with the NIFTY index."
   ]
  },
  {
   "cell_type": "code",
   "execution_count": null,
   "metadata": {},
   "outputs": [],
   "source": [
    "import pandas as pd\n",
    "import numpy as np\n",
    "import seaborn as sns\n",
    "sns.set()"
   ]
  },
  {
   "cell_type": "code",
   "execution_count": null,
   "metadata": {},
   "outputs": [],
   "source": [
    "# Load your data here\n",
    "filename = '/home/machine/Downloads/NIFTY 50_Data.csv'\n",
    "df = pd.read_csv(filename, parse_dates=['Date'])\n",
    "df.rename(lambda x: x.lower(), axis='columns', inplace=True)\n",
    "df = df.set_index('date').sort_index()"
   ]
  },
  {
   "cell_type": "markdown",
   "metadata": {},
   "source": [
    "## Dollar averaging method\n",
    "\n",
    "Dollar averaging is one of the most popular methods used in investment. Under this method, we would buying a stock or an index fund at periodic intervals irrespective of trend. The underlying assumption is equity markets are profitable in the long run and investing them over periodic intervals for a long period of time would lead to the benefits of compounding.\n"
   ]
  },
  {
   "cell_type": "code",
   "execution_count": null,
   "metadata": {},
   "outputs": [],
   "source": [
    "# Buy index at the close price of each month; assume integer quantities\n",
    "freq = 'M' # buy every month - W for week; 2W for every 2 weeks\n",
    "capital = 40000 # investment every period\n",
    "df2 = df.resample(freq).close.last().reset_index()\n",
    "df2.columns = ['date', 'price']\n",
    "df2['avg_price'] = df2.price.expanding().mean()\n",
    "df2['capital'] = capital * (df2.index+1)\n",
    "df2['qty'] = (capital/df2['price']).astype(int)\n",
    "df2['value'] = df2.qty.cumsum() * df2.price\n",
    "df2.set_index('date').price.plot(title='Raw price plot of the index')\n",
    "df2.set_index('date')[['price', 'avg_price']].plot(title='Average Buy Price')\n",
    "df2.set_index('date')[['capital', 'value']].plot(\n",
    "    title='Invested Capital vs Value of Investment')"
   ]
  },
  {
   "cell_type": "markdown",
   "metadata": {},
   "source": [
    "So ,it took 4 years before your investment start getting returns on your capital.\n",
    "\n",
    "You would be in for a surprise if you change the frequency to weekly **W**.\n",
    "\n",
    "Hint `(capital/df2['price']).astype(int)`"
   ]
  },
  {
   "cell_type": "markdown",
   "metadata": {},
   "source": [
    "## Moving average crossover\n",
    "\n",
    "One of the most suggested strategies is the moving average crossover where you buy when one moving average crosses another. Let's implement a long only strategy implementing MA crossover.\n",
    "\n",
    "1. Select two periods ma1, ma2 so that ma1 > ma2\n",
    "2. Calculate the simple moving average for the 2 periods\n",
    "3. BUY when ma1 > ma2\n",
    "4. SELL when ma1 < ma2; hold as long as ma1 > ma2\n",
    "5. Enter into a new position only when there are no open positions"
   ]
  },
  {
   "cell_type": "code",
   "execution_count": null,
   "metadata": {},
   "outputs": [],
   "source": [
    "from fastbt.tradebook import TradeBook\n",
    "\n",
    "capital = 100000\n",
    "ma1 = 15\n",
    "ma2 = 30\n",
    "df2 = df.copy()\n",
    "df2['ma1'] = df2.rolling(ma1).close.mean()\n",
    "df2['ma2'] = df2.rolling(ma2).close.mean()\n",
    "\n",
    "tb = TradeBook()\n",
    "for date,row in df2.dropna().iterrows():\n",
    "    # Enter into a position only when there are no open positions\n",
    "    if tb.o == 0:\n",
    "        if row['ma1'] > row['ma2']:\n",
    "            qty = int(capital/row['close'])\n",
    "            tb.add_trade(date, 'NIFTY', row['close'], qty, order='B',\n",
    "                        ma1=row['ma1'], ma2=row['ma2'])\n",
    "    # Exit in case of an open order\n",
    "    if tb.o > 0:\n",
    "        last_qty = abs(tb.trades['NIFTY'][-1]['qty'])\n",
    "        if row['ma1'] < row ['ma2']:\n",
    "            tb.add_trade(date, 'NIFTY', row['close'], last_qty, order='S',\n",
    "                        ma1=row['ma1'], ma2=row['ma2'])\n",
    "            \n",
    "# Close any existing position at the end of the period\n",
    "if tb.o > 0:\n",
    "    last_qty = abs(tb.trades['NIFTY'][-1]['qty'])\n",
    "    tb.add_trade(date, 'NIFTY', row['close'], last_qty, order='S',\n",
    "                 ma1=row['ma1'], ma2=row['ma2'])\n",
    "\n",
    "# In case of investment left untouched\n",
    "return_per_qty = df2.close.iloc[-1] - df2.close.iloc[0]  \n",
    "start_qty = int(capital/df2.close.iloc[0])\n",
    "total_return = return_per_qty * start_qty\n",
    "returns_calc = lambda x,y : (x/y)*100\n",
    "\n",
    "print('Returns when invested and left alone\\nAmount={:.0f}; \\\n",
    "Returns={:.2f}%'.format(total_return, returns_calc(total_return, capital)))\n",
    "print('Returns from the strategy\\nAmount={:.0f};Returns={:.2f}%'.format(\n",
    "    tb.values['NIFTY'], returns_calc(tb.values['NIFTY'], capital)))"
   ]
  },
  {
   "cell_type": "markdown",
   "metadata": {},
   "source": [
    "Change the ma1 and ma2 parameters to see how the returns vary"
   ]
  }
 ],
 "metadata": {
  "kernelspec": {
   "display_name": "Python 3",
   "language": "python",
   "name": "python3"
  },
  "language_info": {
   "codemirror_mode": {
    "name": "ipython",
    "version": 3
   },
   "file_extension": ".py",
   "mimetype": "text/x-python",
   "name": "python",
   "nbconvert_exporter": "python",
   "pygments_lexer": "ipython3",
   "version": "3.6.8"
  }
 },
 "nbformat": 4,
 "nbformat_minor": 2
}
