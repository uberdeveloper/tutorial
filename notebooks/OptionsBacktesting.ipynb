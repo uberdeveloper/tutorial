{
 "cells": [
  {
   "cell_type": "markdown",
   "metadata": {},
   "source": [
    "## Options Backtesting Framework\n",
    "\n",
    "This is a simple backtesting framework for options. Given end of day data for both the capital and derivatives markets, we would be backtesting for different strategies.\n",
    "\n",
    "> All options are opened at the start of the period and closed by the end of the period or by a stop loss if provided\n",
    "\n",
    "### Implementation\n",
    "\n",
    "1. Load and transform necessary data\n",
    "2. Create a list of option contracts to be entered into each day\n",
    "3. Create a list of signals on, whether to enter into the contract, for each day\n",
    "4. Extract the necessary data for the options contracts that would be executed\n",
    "5. Analyze Profit and loss and other metrices\n"
   ]
  },
  {
   "cell_type": "code",
   "execution_count": 9,
   "metadata": {},
   "outputs": [],
   "source": [
    "# Load necessary libraries\n",
    "\n",
    "import pandas as pd\n",
    "import numpy as np\n",
    "from fastbt.rapid import backtest"
   ]
  },
  {
   "cell_type": "markdown",
   "metadata": {},
   "source": [
    "## Utility Functions"
   ]
  },
  {
   "cell_type": "code",
   "execution_count": 24,
   "metadata": {},
   "outputs": [
    {
     "data": {
      "text/plain": [
       "10225"
      ]
     },
     "execution_count": 24,
     "metadata": {},
     "output_type": "execute_result"
    }
   ],
   "source": [
    "def itm(price, opt='C', step=100):\n",
    "    \"\"\"\n",
    "    Get the strike price of the in the money option\n",
    "    price\n",
    "        spot price\n",
    "    opt\n",
    "        option type - C for Call and P for Put\n",
    "    step\n",
    "        multiple of option strike price\n",
    "    \"\"\"\n",
    "    if opt == 'C':\n",
    "        return int(price/step)*step\n",
    "    elif opt == 'P':\n",
    "        return (int(price/step)+1)*step"
   ]
  },
  {
   "cell_type": "markdown",
   "metadata": {},
   "source": [
    "Data Preparation\n",
    "-----------------\n",
    "Load the raw data and do some transformations. All raw options data is loaded from the bhav copy of the NSE website. Index data is from [niftyindices.com](https://www.niftyindices.com/)."
   ]
  },
  {
   "cell_type": "code",
   "execution_count": 10,
   "metadata": {},
   "outputs": [],
   "source": [
    "nifty = pd.read_csv('/home/machine/Downloads/NIFTY 50_Data.csv',\n",
    "                   parse_dates=['Date'])"
   ]
  },
  {
   "cell_type": "code",
   "execution_count": null,
   "metadata": {},
   "outputs": [],
   "source": []
  }
 ],
 "metadata": {
  "kernelspec": {
   "display_name": "Python 3",
   "language": "python",
   "name": "python3"
  },
  "language_info": {
   "codemirror_mode": {
    "name": "ipython",
    "version": 3
   },
   "file_extension": ".py",
   "mimetype": "text/x-python",
   "name": "python",
   "nbconvert_exporter": "python",
   "pygments_lexer": "ipython3",
   "version": "3.6.8"
  }
 },
 "nbformat": 4,
 "nbformat_minor": 2
}
