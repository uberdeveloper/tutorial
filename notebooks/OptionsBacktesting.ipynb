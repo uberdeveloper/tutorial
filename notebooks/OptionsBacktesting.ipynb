{
 "cells": [
  {
   "cell_type": "markdown",
   "metadata": {},
   "source": [
    "## Options Backtesting Framework\n",
    "\n",
    "This is a simple backtesting framework for options. Given end of day data for both the capital and derivatives markets, we would be backtesting for different strategies.\n",
    "\n",
    "> All options are opened at the start of the period and closed by the end of the period or by a stop loss if provided\n",
    "\n",
    "### Implementation\n",
    "\n",
    "1. Load and transform necessary data\n",
    "2. Create a list of option contracts to be entered into each day\n",
    "3. Create a list of signals, on whether to enter into the contract, for each day\n",
    "4. Extract the necessary data for the options contracts that would be executed\n",
    "5. Analyze Profit and loss and other metrics\n"
   ]
  },
  {
   "cell_type": "code",
   "execution_count": 107,
   "metadata": {},
   "outputs": [],
   "source": [
    "# Load necessary libraries\n",
    "\n",
    "import pandas as pd\n",
    "import numpy as np\n",
    "\n",
    "import seaborn as sns\n",
    "sns.set()"
   ]
  },
  {
   "cell_type": "markdown",
   "metadata": {},
   "source": [
    "## Utility Functions"
   ]
  },
  {
   "cell_type": "code",
   "execution_count": 101,
   "metadata": {},
   "outputs": [],
   "source": [
    "def itm(price, opt='C', step=100):\n",
    "    \"\"\"\n",
    "    Get the strike price of the in the money option\n",
    "    price\n",
    "        spot price\n",
    "    opt\n",
    "        option type - C for Call and P for Put\n",
    "    step\n",
    "        multiple of option strike price\n",
    "    \"\"\"\n",
    "    if opt == 'C':\n",
    "        return int(price/step)*step\n",
    "    elif opt == 'P':\n",
    "        return (int(price/step)+1)*step"
   ]
  },
  {
   "cell_type": "markdown",
   "metadata": {},
   "source": [
    "Data Preparation\n",
    "-----------------\n",
    "Load the raw data and do some transformations. All raw options data is loaded from the bhav copy of the NSE website. Index data is from [niftyindices.com](https://www.niftyindices.com/)."
   ]
  },
  {
   "cell_type": "code",
   "execution_count": 102,
   "metadata": {},
   "outputs": [],
   "source": [
    "nifty = pd.read_csv('/home/machine/Downloads/NIFTY 50_Data.csv',\n",
    "                   parse_dates=['Date'])\n",
    "nifty.rename(lambda x: x.lower(), axis='columns', inplace=True)\n",
    "nifty = nifty[nifty.date.dt.year==2019].sort_values(by='date').reset_index(drop=True)\n",
    "\n",
    "der = pd.read_hdf('/media/machine/4E1EA2D152455460/data/output/fno_2019.h5')\n",
    "der.rename({'timestamp': 'date'}, axis='columns', inplace=True)\n",
    "der['exp_day'] = der.expiry_dt.dt.day\n",
    "\n",
    "# Difference between expiry date and date\n",
    "der['day_diff'] = (der['expiry_dt'] - der['date']).dt.days\n"
   ]
  },
  {
   "cell_type": "code",
   "execution_count": 103,
   "metadata": {},
   "outputs": [
    {
     "data": {
      "text/plain": [
       "4   2019-01-31\n",
       "1   2019-02-28\n",
       "2   2019-03-28\n",
       "0   2019-04-25\n",
       "3   2019-05-30\n",
       "5   2019-06-27\n",
       "dtype: datetime64[ns]"
      ]
     },
     "execution_count": 103,
     "metadata": {},
     "output_type": "execute_result"
    }
   ],
   "source": [
    "# Change your symbol here\n",
    "symbol = 'NIFTY'\n",
    "# Keep nifty data with monthly options only\n",
    "# This hack is incomplete and should be correctly configured\n",
    "q = '(symbol==\"{sym}\") & (instrument==\"OPTIDX\") & (exp_day > 24) & (day_diff<29)'\n",
    "df = der.query(q.format(sym=symbol))\n",
    "pd.Series(df.expiry_dt.unique()).sort_values()"
   ]
  },
  {
   "cell_type": "markdown",
   "metadata": {},
   "source": [
    "Select list of options\n",
    "-----------------------\n",
    "\n",
    "We must now select the list of options to be traded. To begin, with let's BUY in the money call option at the start of the day and hold it till the end of the day. We need the following columns for each day\n",
    "\n",
    " * date\n",
    " * strike price\n",
    " * option_type\n",
    " * spot price"
   ]
  },
  {
   "cell_type": "code",
   "execution_count": 116,
   "metadata": {},
   "outputs": [],
   "source": [
    "def option_prices(prices, opt=[('C',0)], step=100):\n",
    "    \"\"\"\n",
    "    Get the list of options for each period\n",
    "    prices\n",
    "        prices on which the option prices are to be generated\n",
    "        series with date as index and price as values\n",
    "    opt\n",
    "        list of option type and step as 2-tuples\n",
    "            * (C,0) mean in-the-money call option\n",
    "            * (C,1) mean call option next to in-the-money\n",
    "            * (P,0) mean in-the-money put option\n",
    "    step\n",
    "        optional step size for the option\n",
    "    Note\n",
    "    -----\n",
    "    All calculations are done with in-the-money option\n",
    "    as the reference point. To illustrate, assume a spot price of 10285\n",
    "    (C,0) -> 10200\n",
    "    (C,1) -> 10300\n",
    "    (P,0) -> 10300\n",
    "    (P,1) -> 10200\n",
    "    (C,0) with step=50 -> 10250\n",
    "    (C,1) with step=50 -> 10300\n",
    "    \"\"\"\n",
    "    collect = []\n",
    "    s = prices.reset_index()\n",
    "    s.columns = ['date', 'spot']\n",
    "    for opt, strk in opt:\n",
    "        o = s.copy()\n",
    "        o['strike_pr'] = [itm(x)+(strk*step) for x in nifty.open]\n",
    "        if opt == 'C':\n",
    "            o['option_typ'] = 'CE'\n",
    "        elif opt == 'P':\n",
    "            o['option_typ'] = 'PE'\n",
    "        collect.append(o)\n",
    "    return pd.concat(collect)"
   ]
  },
  {
   "cell_type": "code",
   "execution_count": 104,
   "metadata": {},
   "outputs": [
    {
     "data": {
      "text/html": [
       "<div>\n",
       "<style scoped>\n",
       "    .dataframe tbody tr th:only-of-type {\n",
       "        vertical-align: middle;\n",
       "    }\n",
       "\n",
       "    .dataframe tbody tr th {\n",
       "        vertical-align: top;\n",
       "    }\n",
       "\n",
       "    .dataframe thead th {\n",
       "        text-align: right;\n",
       "    }\n",
       "</style>\n",
       "<table border=\"1\" class=\"dataframe\">\n",
       "  <thead>\n",
       "    <tr style=\"text-align: right;\">\n",
       "      <th></th>\n",
       "      <th>date</th>\n",
       "      <th>strike_pr</th>\n",
       "      <th>option_typ</th>\n",
       "      <th>spot</th>\n",
       "    </tr>\n",
       "  </thead>\n",
       "  <tbody>\n",
       "    <tr>\n",
       "      <th>0</th>\n",
       "      <td>2019-01-01</td>\n",
       "      <td>10800</td>\n",
       "      <td>CE</td>\n",
       "      <td>10881.70</td>\n",
       "    </tr>\n",
       "    <tr>\n",
       "      <th>1</th>\n",
       "      <td>2019-01-02</td>\n",
       "      <td>10800</td>\n",
       "      <td>CE</td>\n",
       "      <td>10868.85</td>\n",
       "    </tr>\n",
       "    <tr>\n",
       "      <th>2</th>\n",
       "      <td>2019-01-03</td>\n",
       "      <td>10700</td>\n",
       "      <td>CE</td>\n",
       "      <td>10796.80</td>\n",
       "    </tr>\n",
       "    <tr>\n",
       "      <th>3</th>\n",
       "      <td>2019-01-04</td>\n",
       "      <td>10600</td>\n",
       "      <td>CE</td>\n",
       "      <td>10699.70</td>\n",
       "    </tr>\n",
       "    <tr>\n",
       "      <th>4</th>\n",
       "      <td>2019-01-07</td>\n",
       "      <td>10800</td>\n",
       "      <td>CE</td>\n",
       "      <td>10804.85</td>\n",
       "    </tr>\n",
       "  </tbody>\n",
       "</table>\n",
       "</div>"
      ],
      "text/plain": [
       "        date  strike_pr option_typ      spot\n",
       "0 2019-01-01      10800         CE  10881.70\n",
       "1 2019-01-02      10800         CE  10868.85\n",
       "2 2019-01-03      10700         CE  10796.80\n",
       "3 2019-01-04      10600         CE  10699.70\n",
       "4 2019-01-07      10800         CE  10804.85"
      ]
     },
     "execution_count": 104,
     "metadata": {},
     "output_type": "execute_result"
    }
   ],
   "source": [
    "nifty['strike_pr'] = [itm(x) for x in nifty.open]\n",
    "nifty['spot'] = nifty.open.copy()\n",
    "nifty['option_typ'] = 'CE'\n",
    "cols = ['date', 'strike_pr', 'option_typ', 'spot']\n",
    "options = nifty[cols].copy()\n",
    "options.head()"
   ]
  },
  {
   "cell_type": "code",
   "execution_count": 117,
   "metadata": {},
   "outputs": [
    {
     "data": {
      "text/html": [
       "<div>\n",
       "<style scoped>\n",
       "    .dataframe tbody tr th:only-of-type {\n",
       "        vertical-align: middle;\n",
       "    }\n",
       "\n",
       "    .dataframe tbody tr th {\n",
       "        vertical-align: top;\n",
       "    }\n",
       "\n",
       "    .dataframe thead th {\n",
       "        text-align: right;\n",
       "    }\n",
       "</style>\n",
       "<table border=\"1\" class=\"dataframe\">\n",
       "  <thead>\n",
       "    <tr style=\"text-align: right;\">\n",
       "      <th></th>\n",
       "      <th>date</th>\n",
       "      <th>spot</th>\n",
       "      <th>strike_pr</th>\n",
       "      <th>option_typ</th>\n",
       "    </tr>\n",
       "  </thead>\n",
       "  <tbody>\n",
       "    <tr>\n",
       "      <th>0</th>\n",
       "      <td>2019-01-01</td>\n",
       "      <td>10881.70</td>\n",
       "      <td>10800</td>\n",
       "      <td>CE</td>\n",
       "    </tr>\n",
       "    <tr>\n",
       "      <th>1</th>\n",
       "      <td>2019-01-02</td>\n",
       "      <td>10868.85</td>\n",
       "      <td>10800</td>\n",
       "      <td>CE</td>\n",
       "    </tr>\n",
       "    <tr>\n",
       "      <th>2</th>\n",
       "      <td>2019-01-03</td>\n",
       "      <td>10796.80</td>\n",
       "      <td>10700</td>\n",
       "      <td>CE</td>\n",
       "    </tr>\n",
       "    <tr>\n",
       "      <th>3</th>\n",
       "      <td>2019-01-04</td>\n",
       "      <td>10699.70</td>\n",
       "      <td>10600</td>\n",
       "      <td>CE</td>\n",
       "    </tr>\n",
       "    <tr>\n",
       "      <th>4</th>\n",
       "      <td>2019-01-07</td>\n",
       "      <td>10804.85</td>\n",
       "      <td>10800</td>\n",
       "      <td>CE</td>\n",
       "    </tr>\n",
       "  </tbody>\n",
       "</table>\n",
       "</div>"
      ],
      "text/plain": [
       "        date      spot  strike_pr option_typ\n",
       "0 2019-01-01  10881.70      10800         CE\n",
       "1 2019-01-02  10868.85      10800         CE\n",
       "2 2019-01-03  10796.80      10700         CE\n",
       "3 2019-01-04  10699.70      10600         CE\n",
       "4 2019-01-07  10804.85      10800         CE"
      ]
     },
     "execution_count": 117,
     "metadata": {},
     "output_type": "execute_result"
    }
   ],
   "source": [
    "options = option_prices(nifty.set_index('date').open)\n",
    "options.head()"
   ]
  },
  {
   "cell_type": "markdown",
   "metadata": {},
   "source": [
    "Select signals\n",
    "--------------\n",
    "\n",
    "A signal is a indication whether to buy or sell the contract on a daily basis. It is a single column that outputs 1 if the contract is entered into or a 0 if the contract is not entered. Since we would be trading for all the days, we simply include a 1 for all dates"
   ]
  },
  {
   "cell_type": "code",
   "execution_count": 105,
   "metadata": {},
   "outputs": [
    {
     "data": {
      "text/html": [
       "<div>\n",
       "<style scoped>\n",
       "    .dataframe tbody tr th:only-of-type {\n",
       "        vertical-align: middle;\n",
       "    }\n",
       "\n",
       "    .dataframe tbody tr th {\n",
       "        vertical-align: top;\n",
       "    }\n",
       "\n",
       "    .dataframe thead th {\n",
       "        text-align: right;\n",
       "    }\n",
       "</style>\n",
       "<table border=\"1\" class=\"dataframe\">\n",
       "  <thead>\n",
       "    <tr style=\"text-align: right;\">\n",
       "      <th></th>\n",
       "      <th>date</th>\n",
       "      <th>strike_pr</th>\n",
       "      <th>option_typ</th>\n",
       "      <th>spot</th>\n",
       "      <th>signal</th>\n",
       "    </tr>\n",
       "  </thead>\n",
       "  <tbody>\n",
       "    <tr>\n",
       "      <th>0</th>\n",
       "      <td>2019-01-01</td>\n",
       "      <td>10800</td>\n",
       "      <td>CE</td>\n",
       "      <td>10881.70</td>\n",
       "      <td>1</td>\n",
       "    </tr>\n",
       "    <tr>\n",
       "      <th>1</th>\n",
       "      <td>2019-01-02</td>\n",
       "      <td>10800</td>\n",
       "      <td>CE</td>\n",
       "      <td>10868.85</td>\n",
       "      <td>1</td>\n",
       "    </tr>\n",
       "    <tr>\n",
       "      <th>2</th>\n",
       "      <td>2019-01-03</td>\n",
       "      <td>10700</td>\n",
       "      <td>CE</td>\n",
       "      <td>10796.80</td>\n",
       "      <td>1</td>\n",
       "    </tr>\n",
       "    <tr>\n",
       "      <th>3</th>\n",
       "      <td>2019-01-04</td>\n",
       "      <td>10600</td>\n",
       "      <td>CE</td>\n",
       "      <td>10699.70</td>\n",
       "      <td>1</td>\n",
       "    </tr>\n",
       "    <tr>\n",
       "      <th>4</th>\n",
       "      <td>2019-01-07</td>\n",
       "      <td>10800</td>\n",
       "      <td>CE</td>\n",
       "      <td>10804.85</td>\n",
       "      <td>1</td>\n",
       "    </tr>\n",
       "  </tbody>\n",
       "</table>\n",
       "</div>"
      ],
      "text/plain": [
       "        date  strike_pr option_typ      spot  signal\n",
       "0 2019-01-01      10800         CE  10881.70       1\n",
       "1 2019-01-02      10800         CE  10868.85       1\n",
       "2 2019-01-03      10700         CE  10796.80       1\n",
       "3 2019-01-04      10600         CE  10699.70       1\n",
       "4 2019-01-07      10800         CE  10804.85       1"
      ]
     },
     "execution_count": 105,
     "metadata": {},
     "output_type": "execute_result"
    }
   ],
   "source": [
    "options['signal'] = 1\n",
    "options.head()"
   ]
  },
  {
   "cell_type": "markdown",
   "metadata": {},
   "source": [
    "Merging data and backtesting\n",
    "-----------------------------\n",
    "Since we have restricted the data at the time of query to only contracts with monthly expiry and to a particular symbol, there would be only one contract with the specific strike and option type on a particular date. So we could go ahead with a simple merge\n"
   ]
  },
  {
   "cell_type": "code",
   "execution_count": 120,
   "metadata": {},
   "outputs": [
    {
     "data": {
      "text/plain": [
       "<matplotlib.axes._subplots.AxesSubplot at 0x7efbc484d160>"
      ]
     },
     "execution_count": 120,
     "metadata": {},
     "output_type": "execute_result"
    },
    {
     "data": {
      "image/png": "[encoded data removed]",
      "text/plain": [
       "<Figure size 432x288 with 1 Axes>"
      ]
     },
     "metadata": {},
     "output_type": "display_data"
    }
   ],
   "source": [
    "cols = ['symbol', 'date', 'expiry_dt', 'strike_pr', 'option_typ',\n",
    "       'open', 'high', 'low', 'close']\n",
    "res = options.merge(df[cols], on=['date', 'strike_pr', 'option_typ'])\n",
    "res['profit'] = res.eval('close-open') # to change in case of selling options\n",
    "res['cum_profit'] = res.profit.cumsum()\n",
    "res.set_index('date').cum_profit.plot()"
   ]
  },
  {
   "cell_type": "code",
   "execution_count": 124,
   "metadata": {},
   "outputs": [
    {
     "data": {
      "text/plain": [
       "<matplotlib.axes._subplots.AxesSubplot at 0x7efbc4745588>"
      ]
     },
     "execution_count": 124,
     "metadata": {},
     "output_type": "execute_result"
    },
    {
     "data": {
      "image/png": "[encoded data removed]",
      "text/plain": [
       "<Figure size 432x288 with 1 Axes>"
      ]
     },
     "metadata": {},
     "output_type": "display_data"
    }
   ],
   "source": [
    "# Run a backtest with stop loss and price set\n",
    "# pip install fastbt for this to work\n",
    "\n",
    "from fastbt.rapid import backtest\n",
    "df101 = options.merge(df[cols], on=['date', 'strike_pr', 'option_typ'])\n",
    "df101['timestamp'] = df101['date']\n",
    "results = backtest(data=df101, stop_loss=25, order='B', price='open*1.1')\n",
    "results['profit'] = results.eval('sell-buy')\n",
    "results.set_index('timestamp').profit.cumsum().plot()"
   ]
  },
  {
   "cell_type": "code",
   "execution_count": 126,
   "metadata": {},
   "outputs": [
    {
     "data": {
      "text/plain": [
       "<matplotlib.axes._subplots.AxesSubplot at 0x7efbc457ed30>"
      ]
     },
     "execution_count": 126,
     "metadata": {},
     "output_type": "execute_result"
    },
    {
     "data": {
      "image/png": "[encoded data removed]",
      "text/plain": [
       "<Figure size 432x288 with 1 Axes>"
      ]
     },
     "metadata": {},
     "output_type": "display_data"
    }
   ],
   "source": [
    "results = backtest(data=df101, stop_loss=25, order='S', price='open*0.9')\n",
    "results['profit'] = results.eval('sell-buy')\n",
    "results.set_index('timestamp').profit.cumsum().plot()"
   ]
  },
  {
   "cell_type": "markdown",
   "metadata": {},
   "source": [
    "Let's work out a slightly complex option\n"
   ]
  }
 ],
 "metadata": {
  "kernelspec": {
   "display_name": "Python 3",
   "language": "python",
   "name": "python3"
  },
  "language_info": {
   "codemirror_mode": {
    "name": "ipython",
    "version": 3
   },
   "file_extension": ".py",
   "mimetype": "text/x-python",
   "name": "python",
   "nbconvert_exporter": "python",
   "pygments_lexer": "ipython3",
   "version": "3.6.8"
  }
 },
 "nbformat": 4,
 "nbformat_minor": 2
}
